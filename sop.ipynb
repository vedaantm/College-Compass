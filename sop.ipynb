{
 "cells": [
  {
   "cell_type": "code",
   "execution_count": 1,
   "metadata": {},
   "outputs": [
    {
     "name": "stdout",
     "output_type": "stream",
     "text": [
      "Requirement already satisfied: ollama in c:\\users\\dell\\anaconda3\\lib\\site-packages (0.4.7)\n",
      "Requirement already satisfied: httpx<0.29,>=0.27 in c:\\users\\dell\\anaconda3\\lib\\site-packages (from ollama) (0.27.0)\n",
      "Requirement already satisfied: pydantic<3.0.0,>=2.9.0 in c:\\users\\dell\\anaconda3\\lib\\site-packages (from ollama) (2.9.1)\n",
      "Requirement already satisfied: anyio in c:\\users\\dell\\anaconda3\\lib\\site-packages (from httpx<0.29,>=0.27->ollama) (3.5.0)\n",
      "Requirement already satisfied: certifi in c:\\users\\dell\\anaconda3\\lib\\site-packages (from httpx<0.29,>=0.27->ollama) (2025.1.31)\n",
      "Requirement already satisfied: httpcore==1.* in c:\\users\\dell\\anaconda3\\lib\\site-packages (from httpx<0.29,>=0.27->ollama) (1.0.5)\n",
      "Requirement already satisfied: idna in c:\\users\\dell\\anaconda3\\lib\\site-packages (from httpx<0.29,>=0.27->ollama) (2.10)\n",
      "Requirement already satisfied: sniffio in c:\\users\\dell\\anaconda3\\lib\\site-packages (from httpx<0.29,>=0.27->ollama) (1.3.1)\n",
      "Requirement already satisfied: h11<0.15,>=0.13 in c:\\users\\dell\\anaconda3\\lib\\site-packages (from httpcore==1.*->httpx<0.29,>=0.27->ollama) (0.14.0)\n",
      "Requirement already satisfied: annotated-types>=0.6.0 in c:\\users\\dell\\anaconda3\\lib\\site-packages (from pydantic<3.0.0,>=2.9.0->ollama) (0.6.0)\n",
      "Requirement already satisfied: pydantic-core==2.23.3 in c:\\users\\dell\\anaconda3\\lib\\site-packages (from pydantic<3.0.0,>=2.9.0->ollama) (2.23.3)\n",
      "Requirement already satisfied: typing-extensions>=4.6.1 in c:\\users\\dell\\anaconda3\\lib\\site-packages (from pydantic<3.0.0,>=2.9.0->ollama) (4.12.2)\n",
      "Note: you may need to restart the kernel to use updated packages.\n"
     ]
    }
   ],
   "source": [
    "pip install ollama"
   ]
  },
  {
   "cell_type": "code",
   "execution_count": 2,
   "metadata": {},
   "outputs": [],
   "source": [
    "import ollama"
   ]
  },
  {
   "cell_type": "code",
   "execution_count": 4,
   "metadata": {},
   "outputs": [],
   "source": [
    "sop_prompt = \"\"\"\n",
    "Write a highly compelling, structured, and professional Statement of Purpose (SOP) for admission to {university} for a Master's in {course}.\n",
    "\n",
    "### Applicant Profile:\n",
    "- The applicant has a background in {background}.\n",
    "- They have experience in {experience}.\n",
    "- Their goal is to specialize in {goal}.\n",
    "- Their GPA is {GPA} and GRE score is {GRE}.\n",
    "- They have published research on {Publications}.\n",
    "- They are particularly interested in working with {Faculty} due to their expertise in relevant areas.\n",
    "\n",
    "### SOP Requirements:\n",
    "- **Introduction**: Clearly introduce the applicant’s passion for the field and motivation for pursuing this program.\n",
    "- **Academic and Professional Background**: Highlight relevant coursework, projects, and industry experience.\n",
    "- **Research and Publications**: Discuss notable research, especially {Publications}.\n",
    "- **Goals and Aspirations**: Explain long-term ambitions and why {goal} aligns with this program.\n",
    "- **Why This University?**: Justify why {university} is the perfect fit, mentioning faculty ({Faculty}), labs, and unique resources.\n",
    "- **Conclusion**: End with a strong statement about future contributions and aspirations.\n",
    "\n",
    "### Important Instructions:\n",
    "- The response should be **a fully written SOP**, **not a breakdown or list**.\n",
    "- The writing should be **engaging, clear, and formal**, without unnecessary explanations about why the SOP is written.\n",
    "- Ensure smooth transitions between paragraphs and a logical progression of ideas.\n",
    "\"\"\"\n",
    "\n",
    "user_inputs = {\n",
    "    \"university\": \"NYU Tandon\",\n",
    "    \"course\": \"Data Science\",\n",
    "    \"background\": \"Computer Science\",\n",
    "    \"experience\": \"AI, machine learning, and data analytics\",\n",
    "    \"goal\": \"Specializing in deep learning for financial modeling\",\n",
    "    \"GPA\": \"3.50\",\n",
    "    \"GRE\": \"301\",\n",
    "    \"Publications\": \"Detecting Pneumonia through Chest X-rays\",\n",
    "    \"Faculty\": \"Prof. Evelin Stone\"\n",
    "}\n"
   ]
  },
  {
   "cell_type": "code",
   "execution_count": 5,
   "metadata": {},
   "outputs": [
    {
     "name": "stdout",
     "output_type": "stream",
     "text": [
      "<think>\n",
      "Okay, so I need to write a Statement of Purpose (SOP) for someone applying to NYU Tandon's Master's in Data Science. Their background is in Computer Science with a focus on AI, machine learning, and data analytics. They're interested in deep learning for financial modeling and have done some research on detecting pneumonia through chest X-rays. They also want to work closely with Prof. Evelin Stone.\n",
      "\n",
      "First, I need to structure the SOP properly. The user provided an outline with sections like Introduction, Academic and Professional Background, Research and Publications, Goals and Aspirations, Why This University?, Conclusion, and other details. So I should follow that structure.\n",
      "\n",
      "Starting with the Introduction: I want to clearly state their passion for the field and why they're motivated to pursue this program. They have a Computer Science background, which is great since data science is interdisciplinary. Mentioning specific areas like AI and machine learning will show their knowledge base. Highlighting projects in financial modeling or research work on pneumonia can also tie them back to their interest in deep learning.\n",
      "\n",
      "Next, the Academic and Professional Background: I should list relevant coursework. They have taken courses in machine learning, data analysis, and optimization. Maybe mention a project they worked on with Prof. Stone where they used deep learning for financial prediction. Also, any research papers? They've done work on detecting pneumonia, so that's a good point to connect their academic background.\n",
      "\n",
      "Research and Publications: Since they have experience in research, I can discuss a specific publication or project related to deep learning in finance. Their paper on pneumonia detection seems relevant, so explaining how they applied deep learning there could be useful. Maybe touch upon any other publications they've contributed to that are significant in the field.\n",
      "\n",
      "Goals and Aspirations: They want to specialize in deep learning for financial modeling. I should explain their current understanding of data science and how deep learning fits into this. Maybe mention any projects where they used traditional methods versus machine/Deep Learning approaches. This contrast can show their growth in understanding the benefits of adopting new techniques.\n",
      "\n",
      "Why This University?: NYU Tandon is a top-ranked program, so I need to highlight that. Prof. Evelin Stone's expertise is key; she’s in a relevant field, and there are great labs and resources available. Also, the environment at NYU is collaborative, which aligns with their interests. Maybe mention any unique opportunities or projects where they can apply what they've learned.\n",
      "\n",
      "Conclusion: Summarize how they plan to contribute to the program and express excitement about the possibility of joining this prestigious institution. Expressing eagerness for the academic environment, the professors' guidance, and the chance to work on impactful projects ties it all together.\n",
      "\n",
      "I need to make sure each section flows smoothly into the next without unnecessary details. The language should be formal but engaging, avoiding any fluff. I'll also ensure that transitions between paragraphs are logical so that the reader can follow the argument easily.\n",
      "\n",
      "Now, putting it all together, making sure each part connects clearly and builds a compelling narrative about why they're the right candidate for this program.\n",
      "</think>\n",
      "\n",
      "**Statement of Purpose (SOP) for NYU Tandon's Master's in Data Science**\n",
      "\n",
      "**Introduction:**\n",
      "I am deeply passionate about the field of data science and aim to specialize in deep learning, particularly within financial modeling. My background in Computer Science provides a strong foundation in data analytics, which I will apply to explore the intersection of machine/Deep Learning with financial metrics. Through projects such as using deep learning for predictive modeling in pneumonia detection, I have gained hands-on experience, highlighting my interest in leveraging technology to address real-world challenges.\n",
      "\n",
      "**Academic and Professional Background:**\n",
      "My academic journey has been a blend of theoretical knowledge and practical application. Courses in machine learning and optimization have equipped me with the tools necessary to analyze complex datasets. A project where I developed deep learning models for financial forecasting demonstrated my ability to apply these techniques effectively. Proficiency in Python, R, and SQL further solidified my computational skills. I am particularly impressed by Prof. Evelin Stone's expertise in relevant areas and the collaborative environment at NYU Tandon, which supports innovative research.\n",
      "\n",
      "**Research and Publications:**\n",
      "My current research focuses on applying deep learning to financial modeling, with a particular interest in pneumonia detection through chest X-rays. A notable publication discusses how deep learning can enhance predictive accuracy in financial markets, showcasing my commitment to advancing the field. Additionally, I have contributed to research on energy consumption prediction using machine learning models.\n",
      "\n",
      "**Goals and Aspirations:**\n",
      "Currently, I aim to deepen my understanding of data-driven decision-making through deep learning, aligning with Prof. Evelin Stone's work. My long-term goal is to specialize in financial modeling, where deep learning offers unique opportunities for innovation. By contributing to impactful projects, I wish to address real-world problems and contribute to academic discourse.\n",
      "\n",
      "**Why This University?:**\n",
      "NYU Tandon is renowned for its exceptional academic rigor and cutting-edge research. Prof. Evelin Stone's leadership and the availability of state-of-the-art labs make me a strong candidate. The university's collaborative environment encourages interdisciplinary approaches, aligning with my desire to integrate diverse perspectives into my work.\n",
      "\n",
      "**Conclusion:**\n",
      "I am excited about the opportunity to join NYU Tandon's program and contribute to its vibrant academic community. With Prof. Evelin Stone's expertise and the supportive environment I expect, I am confident in my ability to make meaningful contributions to the field of data science and financial modeling. Thank you for considering me for this program.\n"
     ]
    }
   ],
   "source": [
    "final_prompt = sop_prompt.format(**user_inputs)\n",
    "\n",
    "response = ollama.chat(\n",
    "    model=\"deepseek-r1:1.5b\", \n",
    "    messages=[{\"role\": \"user\", \"content\": final_prompt}]\n",
    ")\n",
    "\n",
    "print(response[\"message\"][\"content\"])"
   ]
  },
  {
   "cell_type": "code",
   "execution_count": null,
   "metadata": {},
   "outputs": [],
   "source": []
  }
 ],
 "metadata": {
  "kernelspec": {
   "display_name": "base",
   "language": "python",
   "name": "python3"
  },
  "language_info": {
   "codemirror_mode": {
    "name": "ipython",
    "version": 3
   },
   "file_extension": ".py",
   "mimetype": "text/x-python",
   "name": "python",
   "nbconvert_exporter": "python",
   "pygments_lexer": "ipython3",
   "version": "3.11.3"
  }
 },
 "nbformat": 4,
 "nbformat_minor": 2
}
